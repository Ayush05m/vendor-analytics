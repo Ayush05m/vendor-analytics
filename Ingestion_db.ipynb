{
 "cells": [
  {
   "cell_type": "code",
   "execution_count": 9,
   "id": "0eb2e2f9-d3fe-453f-a9b9-c47c707da089",
   "metadata": {},
   "outputs": [],
   "source": [
    "import pandas as pd\n",
    "import os\n",
    "from sqlalchemy import create_engine\n",
    "import logging\n",
    "import sqlite3\n",
    "import time"
   ]
  },
  {
   "cell_type": "code",
   "execution_count": 2,
   "id": "3c0a0bc8-35c8-4e25-a950-133105f259b4",
   "metadata": {},
   "outputs": [],
   "source": [
    "DB_PATH = \"inventory.db\"\n",
    "DATA_DIR = \"data\"\n",
    "CHUNK_SIZE = 100_000"
   ]
  },
  {
   "cell_type": "code",
   "execution_count": 4,
   "id": "ad301cef-1f38-4f3a-a7e8-ba2b861fcf5b",
   "metadata": {},
   "outputs": [],
   "source": [
    "logging. basicConfig(\n",
    "    filename=\"logs/ingestion_db.log\" ,\n",
    "    level=logging.DEBUG,\n",
    "    format=\"%(asctime)s - %(levelname)s - %(message)s\",\n",
    "    filemode = 'a'\n",
    ")"
   ]
  },
  {
   "cell_type": "code",
   "execution_count": 5,
   "id": "58483938-208b-4d5e-b0ee-9980f59849e6",
   "metadata": {},
   "outputs": [],
   "source": [
    "engine = create_engine('sqlite:///inventory.db')"
   ]
  },
  {
   "cell_type": "code",
   "execution_count": 6,
   "id": "bec1af9f-c421-4f5b-a7c0-b5bc1f6a3dfd",
   "metadata": {},
   "outputs": [],
   "source": [
    "def ingest_csv_to_sqlite(file_path, table_name, conn):\n",
    "    \"\"\"Efficient ingestion using chunks + single transaction\"\"\"\n",
    "    logging.info(f\"Started ingesting {file_path} into {table_name}\")\n",
    "    start = time.time()\n",
    "    \n",
    "    with conn:  # Single transaction for the whole file\n",
    "        for chunk in pd.read_csv(file_path, chunksize=CHUNK_SIZE):\n",
    "            chunk.to_sql(table_name, conn, if_exists='append', index=False)\n",
    "    \n",
    "    end = time.time()\n",
    "    logging.info(f\"Finished {file_path} in {(end - start):.2f} seconds\")"
   ]
  },
  {
   "cell_type": "code",
   "execution_count": 7,
   "id": "e64499f2-2518-4584-8ef0-bd224688c01a",
   "metadata": {},
   "outputs": [],
   "source": [
    "def load_raw_data():\n",
    "    start_total = time.time()\n",
    "    conn = sqlite3.connect(DB_PATH)\n",
    "    \n",
    "    for file in os.listdir(DATA_DIR):\n",
    "        if file.endswith(\".csv\"):\n",
    "            table_name = file[:-4]\n",
    "            ingest_csv_to_sqlite(os.path.join(DATA_DIR, file), table_name, conn)\n",
    "    \n",
    "    conn.close()\n",
    "    total_time = (time.time() - start_total) / 60\n",
    "    logging.info(\"--------------Ingestion Complete-------------\")\n",
    "    logging.info(f\"Total Time Taken: {total_time:.2f} minutes\")\n"
   ]
  },
  {
   "cell_type": "code",
   "execution_count": 10,
   "id": "31ebb09c-105f-4a79-a73f-b83118b54001",
   "metadata": {},
   "outputs": [],
   "source": [
    "load_raw_data()"
   ]
  },
  {
   "cell_type": "code",
   "execution_count": null,
   "id": "c0e7faa4-7c62-49f1-9310-50d7fda1a736",
   "metadata": {},
   "outputs": [],
   "source": []
  }
 ],
 "metadata": {
  "kernelspec": {
   "display_name": "Python 3 (ipykernel)",
   "language": "python",
   "name": "python3"
  },
  "language_info": {
   "codemirror_mode": {
    "name": "ipython",
    "version": 3
   },
   "file_extension": ".py",
   "mimetype": "text/x-python",
   "name": "python",
   "nbconvert_exporter": "python",
   "pygments_lexer": "ipython3",
   "version": "3.12.3"
  }
 },
 "nbformat": 4,
 "nbformat_minor": 5
}
